{
 "cells": [
  {
   "cell_type": "markdown",
   "metadata": {},
   "source": [
    "PROBLEMA 1"
   ]
  },
  {
   "cell_type": "code",
   "execution_count": 10,
   "metadata": {},
   "outputs": [],
   "source": [
    "#F para leer 3 tanques y mostrar promedio\n",
    "def generarReporte(oneT, twoT, threeT):\n",
    "    promedioT = (oneT + twoT + threeT) / 3\n",
    "    return f\"\"\"Resultado: \n",
    "    Promedio Total: {promedioT}%\n",
    "    Tanque uno: {oneT}%\n",
    "    Tanque dos: {twoT}%\n",
    "    Tanque tres: {threeT}%\n",
    "    \"\"\""
   ]
  },
  {
   "cell_type": "code",
   "execution_count": 11,
   "metadata": {},
   "outputs": [
    {
     "name": "stdout",
     "output_type": "stream",
     "text": [
      "Resultado: \n",
      "    Promedio Total: 73.33333333333333%\n",
      "    Tanque uno: 75%\n",
      "    Tanque dos: 90%\n",
      "    Tanque tres: 55%\n",
      "    \n"
     ]
    }
   ],
   "source": [
    "#Generar print mediante la función\n",
    "print(generarReporte(75, 90, 55))"
   ]
  },
  {
   "cell_type": "code",
   "execution_count": 5,
   "metadata": {},
   "outputs": [
    {
     "data": {
      "text/plain": [
       "65.0"
      ]
     },
     "execution_count": 5,
     "metadata": {},
     "output_type": "execute_result"
    }
   ],
   "source": [
    "#F promedio\n",
    "def promedio(valor):\n",
    "    total = sum(valor)#Al valor total le asignamos la suma del valor\n",
    "    obj = len(valor)#Al valor objeto se le asigna el lenght del valor\n",
    "    return total / obj\n",
    "\n",
    "promedio([45, 65, 85])"
   ]
  },
  {
   "cell_type": "code",
   "execution_count": 34,
   "metadata": {},
   "outputs": [],
   "source": [
    "#Actualizar F \n",
    "def generarReporte(oneT, twoT, threeT):\n",
    "    return f\"\"\"Resultado: \n",
    "    Promedio total: {promedio([oneT, twoT, threeT])}%\n",
    "    Tanque uno tiene: {oneT}%\n",
    "    Tanque dos tiene: {twoT}%\n",
    "    Tanque tres tiene: {threeT}%\n",
    "    \"\"\""
   ]
  },
  {
   "cell_type": "code",
   "execution_count": 35,
   "metadata": {},
   "outputs": [
    {
     "name": "stdout",
     "output_type": "stream",
     "text": [
      "Resultado: \n",
      "    Promedio total: 44.333333333333336%\n",
      "    Tanque uno tiene: 15%\n",
      "    Tanque dos tiene: 55%\n",
      "    Tanque tres tiene: 63%\n",
      "    \n"
     ]
    }
   ],
   "source": [
    "print(generarReporte(15, 55, 63))"
   ]
  },
  {
   "cell_type": "markdown",
   "metadata": {},
   "source": [
    "PROBLEMA 2"
   ]
  },
  {
   "cell_type": "code",
   "execution_count": 15,
   "metadata": {},
   "outputs": [],
   "source": [
    "#F con informe preciso\n",
    "def reporteMision(preLanz, tVuelo, destino, extT, intT):\n",
    "    return f\"\"\"Informe misión:\n",
    "    El destino es: {destino}\n",
    "    El tiempo de vuelo será de: {preLanz + tVuelo} minutos\n",
    "    El contenido total de los tanque es: {extT + intT}\"\"\""
   ]
  },
  {
   "cell_type": "code",
   "execution_count": 18,
   "metadata": {},
   "outputs": [
    {
     "name": "stdout",
     "output_type": "stream",
     "text": [
      "Informe misión:\n",
      "    El destino es: Venus\n",
      "    El tiempo de vuelo será de: 12530 minutos\n",
      "    El contenido total de los tanque es: 450000\n"
     ]
    }
   ],
   "source": [
    "print(reporteMision(30, 12500, \"Venus\", 150000, 300000))"
   ]
  },
  {
   "cell_type": "code",
   "execution_count": 19,
   "metadata": {},
   "outputs": [],
   "source": [
    "#Nueva F de reporte actualizando tanques\n",
    "def reporteMision(destino, *minutes, **fuel_reservoirs):\n",
    "    return f\"\"\"Informe de Misión\n",
    "    El destino es: {destino}\n",
    "    El tiempo de viaje será de: {sum(minutes)} minutos\n",
    "    El combustible de reserva es un total de: {sum(fuel_reservoirs.values())}\"\"\"\n"
   ]
  },
  {
   "cell_type": "code",
   "execution_count": 21,
   "metadata": {},
   "outputs": [
    {
     "name": "stdout",
     "output_type": "stream",
     "text": [
      "Informe de Misión\n",
      "    El destino es: Marte\n",
      "    El tiempo de viaje será de: 360 minutos\n",
      "    El combustible de reserva es un total de: 80000\n"
     ]
    }
   ],
   "source": [
    "print(reporteMision(\"Marte\", 60, 120, 180, tanqueUno=50000, tanqueDos=30000))"
   ]
  },
  {
   "cell_type": "code",
   "execution_count": 28,
   "metadata": {},
   "outputs": [],
   "source": [
    "#Nueva F\n",
    "def reporteMision(destino, *minutes, **fuel_reservoirs):\n",
    "    reporteM = f\"\"\"Informe de la misión:\n",
    "    La misión tiene como destino: {destino}\n",
    "    El tiempo de vuelo de la misisón será: {sum(minutes)} minutos\n",
    "    El combustible de reserva es un total de: {sum(fuel_reservoirs.values())}\n",
    "    \"\"\"\n",
    "\n",
    "    for nombreT, litros in fuel_reservoirs.items():\n",
    "        reporteM += f\"{nombreT} tiene {litros} de reserva\\n\"\n",
    "    return reporteM\n"
   ]
  },
  {
   "cell_type": "code",
   "execution_count": 29,
   "metadata": {},
   "outputs": [
    {
     "name": "stdout",
     "output_type": "stream",
     "text": [
      "Informe de la misión:\n",
      "    La misión tiene como destino: Jupiter\n",
      "    El tiempo de vuelo de la misisón será: 500 minutos\n",
      "    El combustible de reserva es un total de: 444000\n",
      "    tanqueUno tiene 123000 de reserva\n",
      "tanqueDos tiene 321000 de reserva\n",
      "\n"
     ]
    }
   ],
   "source": [
    "print (reporteMision(\"Jupiter\", 50, 150, 300, tanqueUno=123000, tanqueDos=321000))"
   ]
  }
 ],
 "metadata": {
  "interpreter": {
   "hash": "ac59ebe37160ed0dfa835113d9b8498d9f09ceb179beaac4002f036b9467c963"
  },
  "kernelspec": {
   "display_name": "Python 3.9.6 64-bit",
   "language": "python",
   "name": "python3"
  },
  "language_info": {
   "codemirror_mode": {
    "name": "ipython",
    "version": 3
   },
   "file_extension": ".py",
   "mimetype": "text/x-python",
   "name": "python",
   "nbconvert_exporter": "python",
   "pygments_lexer": "ipython3",
   "version": "3.9.6"
  },
  "orig_nbformat": 4
 },
 "nbformat": 4,
 "nbformat_minor": 2
}
