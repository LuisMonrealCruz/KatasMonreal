{
 "cells": [
  {
   "cell_type": "markdown",
   "metadata": {},
   "source": [
    "PROBLEMA 1"
   ]
  },
  {
   "cell_type": "code",
   "execution_count": 2,
   "metadata": {},
   "outputs": [
    {
     "name": "stdout",
     "output_type": "stream",
     "text": [
      "¡SE ACERCA UN ASTEORIDE A ALTA VELOCIDAD!\n"
     ]
    }
   ],
   "source": [
    "asteroide = 70\n",
    "if asteroide > 63:\n",
    "    print(\"¡SE ACERCA UN ASTEORIDE A ALTA VELOCIDAD!\") \n",
    "else:\n",
    "    print(\"Todo bien, nada que reportar\")"
   ]
  },
  {
   "cell_type": "markdown",
   "metadata": {},
   "source": [
    "PROBLEMA 2"
   ]
  },
  {
   "cell_type": "code",
   "execution_count": 7,
   "metadata": {},
   "outputs": [
    {
     "name": "stdout",
     "output_type": "stream",
     "text": [
      "¡Mira arriba! ¡Algo se acerca!\n"
     ]
    }
   ],
   "source": [
    "asteroide = 19\n",
    "if asteroide > 15:\n",
    "    print(\"¡Mira arriba! ¡Algo se acerca!\")\n",
    "elif asteroide == 15:\n",
    "    print(\"¡Mira arriba! ¡Algo se acerca!\")\n",
    "else:\n",
    "    print(\"¡Todo tranquilo!\")"
   ]
  },
  {
   "cell_type": "markdown",
   "metadata": {},
   "source": [
    "PROBLEMA 3"
   ]
  },
  {
   "cell_type": "code",
   "execution_count": 8,
   "metadata": {},
   "outputs": [
    {
     "name": "stdout",
     "output_type": "stream",
     "text": [
      "¡Miren arriba! ¡Algo brillante anda por ahí!\n"
     ]
    }
   ],
   "source": [
    "vAsteroide = 30\n",
    "tAsteroide = 50\n",
    "if vAsteroide > 30 and tAsteroide > 50:\n",
    "    print(\"¡Cuidado¡ !Un asteroide potencialmente peligroso se acerca a la tierra!\")\n",
    "elif vAsteroide >= 25:\n",
    "    print(\"¡Miren arriba! ¡Algo brillante anda por ahí!\")\n",
    "elif tAsteroide < 50:\n",
    "    print('Nada por reportar')\n",
    "else:\n",
    "    print('Nada por reportar')"
   ]
  }
 ],
 "metadata": {
  "interpreter": {
   "hash": "ac59ebe37160ed0dfa835113d9b8498d9f09ceb179beaac4002f036b9467c963"
  },
  "kernelspec": {
   "display_name": "Python 3.9.6 64-bit",
   "language": "python",
   "name": "python3"
  },
  "language_info": {
   "codemirror_mode": {
    "name": "ipython",
    "version": 3
   },
   "file_extension": ".py",
   "mimetype": "text/x-python",
   "name": "python",
   "nbconvert_exporter": "python",
   "pygments_lexer": "ipython3",
   "version": "3.9.6"
  },
  "orig_nbformat": 4
 },
 "nbformat": 4,
 "nbformat_minor": 2
}
