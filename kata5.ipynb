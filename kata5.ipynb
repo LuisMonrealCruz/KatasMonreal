{
 "cells": [
  {
   "cell_type": "markdown",
   "metadata": {},
   "source": [
    "PROBLEMA 1"
   ]
  },
  {
   "cell_type": "code",
   "execution_count": 1,
   "metadata": {},
   "outputs": [],
   "source": [
    "planetaUno = 57900000\n",
    "planetaDos = 1433500000"
   ]
  },
  {
   "cell_type": "code",
   "execution_count": 5,
   "metadata": {},
   "outputs": [
    {
     "name": "stdout",
     "output_type": "stream",
     "text": [
      "1375600000\n",
      "854247600.0\n"
     ]
    }
   ],
   "source": [
    "distanciaKm = planetaDos - planetaUno\n",
    "print(distanciaKm)\n",
    "\n",
    "distanciaMs = distanciaKm * 0.621\n",
    "print(distanciaMs)"
   ]
  },
  {
   "cell_type": "markdown",
   "metadata": {},
   "source": [
    "PROBLEMA 2"
   ]
  },
  {
   "cell_type": "code",
   "execution_count": 6,
   "metadata": {},
   "outputs": [],
   "source": [
    "planetaUno = input('Introduzca la distancia del sol hacía el primer planeta en formato Km')\n",
    "planetaDos = input('Introduzca la distancia del sol para el segundo planeta en formato Km')"
   ]
  },
  {
   "cell_type": "code",
   "execution_count": 7,
   "metadata": {},
   "outputs": [],
   "source": [
    "planetaUno = int(planetaUno)\n",
    "planetaDos = int(planetaDos)"
   ]
  },
  {
   "cell_type": "code",
   "execution_count": 8,
   "metadata": {},
   "outputs": [
    {
     "name": "stdout",
     "output_type": "stream",
     "text": [
      "91700000\n"
     ]
    }
   ],
   "source": [
    "#Valor en km\n",
    "distanciaKm = planetaDos - planetaUno\n",
    "print(distanciaKm)\n",
    "\n",
    "#valor de km a millas\n",
    "#Multiplica la variable distanciaKm por lo especificado y se lo asigana a la variable distanciaMs\n",
    "distanciaMs = distanciaKm * 0.621"
   ]
  }
 ],
 "metadata": {
  "interpreter": {
   "hash": "a2dcfa77324617a77783628b2cbadff91a9b728cd0f17f7f529a4741f649275a"
  },
  "kernelspec": {
   "display_name": "Python 3.9.10 64-bit (windows store)",
   "language": "python",
   "name": "python3"
  },
  "language_info": {
   "codemirror_mode": {
    "name": "ipython",
    "version": 3
   },
   "file_extension": ".py",
   "mimetype": "text/x-python",
   "name": "python",
   "nbconvert_exporter": "python",
   "pygments_lexer": "ipython3",
   "version": "3.9.6"
  },
  "orig_nbformat": 4
 },
 "nbformat": 4,
 "nbformat_minor": 2
}
