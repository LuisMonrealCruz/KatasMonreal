{
 "cells": [
  {
   "cell_type": "markdown",
   "metadata": {},
   "source": [
    "PROBLEMA 1"
   ]
  },
  {
   "cell_type": "code",
   "execution_count": 1,
   "metadata": {},
   "outputs": [],
   "source": [
    "#Diccionario\n",
    "planeta = {'nombre': 'Marte', 'lunas': 2, 'Gravedad': '3721 m/s2'}"
   ]
  },
  {
   "cell_type": "code",
   "execution_count": 2,
   "metadata": {},
   "outputs": [
    {
     "name": "stdout",
     "output_type": "stream",
     "text": [
      "Marte tiene 2 lunas\n"
     ]
    }
   ],
   "source": [
    "#Mostrar nombre de planeta y número de lunas\n",
    "print(f'{planeta[\"nombre\"]} tiene {planeta[\"lunas\"]} lunas')"
   ]
  },
  {
   "cell_type": "code",
   "execution_count": 7,
   "metadata": {},
   "outputs": [],
   "source": [
    "#Agregar clave circunferencia\n",
    "planeta['circunferencia'] = {'polar': 6752, 'equatorial': 6792}"
   ]
  },
  {
   "cell_type": "code",
   "execution_count": 8,
   "metadata": {},
   "outputs": [
    {
     "name": "stdout",
     "output_type": "stream",
     "text": [
      "Marte tiene como circunferencia polar 6752\n"
     ]
    }
   ],
   "source": [
    "#Imprime el nombre del planeta con circunferencia polar\n",
    "print(f'{planeta[\"nombre\"]} tiene como circunferencia polar {planeta[\"circunferencia\"][\"polar\"]}')"
   ]
  },
  {
   "cell_type": "markdown",
   "metadata": {},
   "source": [
    "PROBLEMA 2"
   ]
  },
  {
   "cell_type": "code",
   "execution_count": 9,
   "metadata": {},
   "outputs": [],
   "source": [
    "#Lunas y planetas\n",
    "lunasPlanetas = {\n",
    "    'mercurio': 0,\n",
    "    'venus': 0,\n",
    "    'tierra': 1,\n",
    "    'makemake': 1,\n",
    "    'eris': 1,\n",
    "    'marte': 2,\n",
    "    'haumea': 2,\n",
    "    'pluton': 5,\n",
    "    'neptuno': 14,\n",
    "    'urano': 27,\n",
    "    'jupiter': 79,\n",
    "    'saturno': 82\n",
    "}"
   ]
  },
  {
   "cell_type": "code",
   "execution_count": 10,
   "metadata": {},
   "outputs": [],
   "source": [
    "#Numero de lunas\n",
    "lunas = lunasPlanetas.values()#Se obtiene el tamaño del arreglo para las lunas\n",
    "planetas = len(lunasPlanetas.keys())#Se obtiene el tamaño del arreglo para los planetas"
   ]
  },
  {
   "cell_type": "code",
   "execution_count": 11,
   "metadata": {},
   "outputs": [
    {
     "name": "stdout",
     "output_type": "stream",
     "text": [
      "17.833333333333332\n"
     ]
    }
   ],
   "source": [
    "#Contador de lunas\n",
    "totalLunas = 0#Todo contador inicia en 0\n",
    "for luna in lunas:\n",
    "    totalLunas = totalLunas + luna\n",
    "\n",
    "promedio = totalLunas / planetas#promedio dividiendo las lunas por planetas\n",
    "print(promedio)"
   ]
  }
 ],
 "metadata": {
  "interpreter": {
   "hash": "ac59ebe37160ed0dfa835113d9b8498d9f09ceb179beaac4002f036b9467c963"
  },
  "kernelspec": {
   "display_name": "Python 3.9.6 64-bit",
   "language": "python",
   "name": "python3"
  },
  "language_info": {
   "codemirror_mode": {
    "name": "ipython",
    "version": 3
   },
   "file_extension": ".py",
   "mimetype": "text/x-python",
   "name": "python",
   "nbconvert_exporter": "python",
   "pygments_lexer": "ipython3",
   "version": "3.9.6"
  },
  "orig_nbformat": 4
 },
 "nbformat": 4,
 "nbformat_minor": 2
}
